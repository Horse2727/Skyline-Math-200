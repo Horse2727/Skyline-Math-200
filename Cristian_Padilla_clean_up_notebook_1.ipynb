{
  "nbformat": 4,
  "nbformat_minor": 0,
  "metadata": {
    "colab": {
      "provenance": [],
      "include_colab_link": true
    },
    "kernelspec": {
      "name": "python3",
      "display_name": "Python 3"
    },
    "language_info": {
      "name": "python"
    }
  },
  "cells": [
    {
      "cell_type": "markdown",
      "metadata": {
        "id": "view-in-github",
        "colab_type": "text"
      },
      "source": [
        "<a href=\"https://colab.research.google.com/github/Horse2727/Skyline-Math-200/blob/main/Cristian_Padilla_clean_up_notebook_1.ipynb\" target=\"_parent\"><img src=\"https://colab.research.google.com/assets/colab-badge.svg\" alt=\"Open In Colab\"/></a>"
      ]
    },
    {
      "cell_type": "markdown",
      "source": [
        "\n",
        "\n",
        "```\n",
        "# This is formatted as code\n",
        "```\n",
        "\n",
        "Research Question # __ : Include question here Is there an association between the time you wake up in the morning when you have nowhere to be, and your overall health?\n",
        "\n"
      ],
      "metadata": {
        "id": "RaflRRFg5e8L"
      }
    },
    {
      "cell_type": "code",
      "execution_count": 2,
      "metadata": {
        "id": "U2T9urK-5ZAe"
      },
      "outputs": [],
      "source": [
        "import pandas as pd\n",
        "import matplotlib.pyplot as plt\n",
        "import seaborn as sns"
      ]
    },
    {
      "cell_type": "code",
      "source": [
        "pip install researchpy"
      ],
      "metadata": {
        "colab": {
          "base_uri": "https://localhost:8080/"
        },
        "id": "m2ab-cRTUiE2",
        "outputId": "3661e708-8190-4335-d232-23650afab8e9"
      },
      "execution_count": 3,
      "outputs": [
        {
          "output_type": "stream",
          "name": "stdout",
          "text": [
            "Looking in indexes: https://pypi.org/simple, https://us-python.pkg.dev/colab-wheels/public/simple/\n",
            "Collecting researchpy\n",
            "  Downloading researchpy-0.3.5-py3-none-any.whl (33 kB)\n",
            "Requirement already satisfied: scipy in /usr/local/lib/python3.10/dist-packages (from researchpy) (1.10.1)\n",
            "Requirement already satisfied: numpy in /usr/local/lib/python3.10/dist-packages (from researchpy) (1.22.4)\n",
            "Requirement already satisfied: pandas in /usr/local/lib/python3.10/dist-packages (from researchpy) (1.5.3)\n",
            "Requirement already satisfied: statsmodels in /usr/local/lib/python3.10/dist-packages (from researchpy) (0.13.5)\n",
            "Requirement already satisfied: patsy in /usr/local/lib/python3.10/dist-packages (from researchpy) (0.5.3)\n",
            "Requirement already satisfied: python-dateutil>=2.8.1 in /usr/local/lib/python3.10/dist-packages (from pandas->researchpy) (2.8.2)\n",
            "Requirement already satisfied: pytz>=2020.1 in /usr/local/lib/python3.10/dist-packages (from pandas->researchpy) (2022.7.1)\n",
            "Requirement already satisfied: six in /usr/local/lib/python3.10/dist-packages (from patsy->researchpy) (1.16.0)\n",
            "Requirement already satisfied: packaging>=21.3 in /usr/local/lib/python3.10/dist-packages (from statsmodels->researchpy) (23.1)\n",
            "Installing collected packages: researchpy\n",
            "Successfully installed researchpy-0.3.5\n"
          ]
        }
      ]
    },
    {
      "cell_type": "code",
      "source": [
        "import researchpy as rp"
      ],
      "metadata": {
        "id": "uvdi12PQUoY1"
      },
      "execution_count": 4,
      "outputs": []
    },
    {
      "cell_type": "code",
      "source": [
        "url='https://drive.google.com/file/d/1IbHzUMYKFBkmW3TIvryP7XJlW-WkmGEw/view?usp=sharing'\n",
        "path= 'https://drive.google.com/uc?export=download&id='+url.split('/')[-2]\n",
        "df = pd.read_csv(path)\n",
        "df.head()"
      ],
      "metadata": {
        "id": "Hq7jBgXZ5p7g",
        "colab": {
          "base_uri": "https://localhost:8080/",
          "height": 300
        },
        "outputId": "694e6880-2a06-4fe9-ed20-5926e9e654a7"
      },
      "execution_count": 5,
      "outputs": [
        {
          "output_type": "execute_result",
          "data": {
            "text/plain": [
              "       AID  BIO_SEX        agew1 IMONTH4 IDAY4 IYEAR4   MACNO4 INTID4  \\\n",
              "0  5710027        2                                                     \n",
              "1  5710131        2  19.42739726       5     6   2008  2288160    160   \n",
              "2  5710317        1                                                     \n",
              "3  5710386        1  20.43013699       5    22   2008  2288238    238   \n",
              "4  5710455        2                                                     \n",
              "\n",
              "  BIO_SEX4 VERSION4  ... H4EO5C H4EO5D H4EO5E H4EO5F H4EO5G H4EO5H H4EO5I  \\\n",
              "0                    ...                                                    \n",
              "1        2     V5.4  ...      0      0      0      0      0      0      0   \n",
              "2                    ...                                                    \n",
              "3        1     V5.4  ...      0      0      0      0      0      0      0   \n",
              "4                    ...                                                    \n",
              "\n",
              "  H4EO5J H4EO6 H4EO7  \n",
              "0                     \n",
              "1      0     2     1  \n",
              "2                     \n",
              "3      0     4     1  \n",
              "4                     \n",
              "\n",
              "[5 rows x 976 columns]"
            ],
            "text/html": [
              "\n",
              "  <div id=\"df-f9cd9361-af9e-433f-85b2-fb4df573ec36\">\n",
              "    <div class=\"colab-df-container\">\n",
              "      <div>\n",
              "<style scoped>\n",
              "    .dataframe tbody tr th:only-of-type {\n",
              "        vertical-align: middle;\n",
              "    }\n",
              "\n",
              "    .dataframe tbody tr th {\n",
              "        vertical-align: top;\n",
              "    }\n",
              "\n",
              "    .dataframe thead th {\n",
              "        text-align: right;\n",
              "    }\n",
              "</style>\n",
              "<table border=\"1\" class=\"dataframe\">\n",
              "  <thead>\n",
              "    <tr style=\"text-align: right;\">\n",
              "      <th></th>\n",
              "      <th>AID</th>\n",
              "      <th>BIO_SEX</th>\n",
              "      <th>agew1</th>\n",
              "      <th>IMONTH4</th>\n",
              "      <th>IDAY4</th>\n",
              "      <th>IYEAR4</th>\n",
              "      <th>MACNO4</th>\n",
              "      <th>INTID4</th>\n",
              "      <th>BIO_SEX4</th>\n",
              "      <th>VERSION4</th>\n",
              "      <th>...</th>\n",
              "      <th>H4EO5C</th>\n",
              "      <th>H4EO5D</th>\n",
              "      <th>H4EO5E</th>\n",
              "      <th>H4EO5F</th>\n",
              "      <th>H4EO5G</th>\n",
              "      <th>H4EO5H</th>\n",
              "      <th>H4EO5I</th>\n",
              "      <th>H4EO5J</th>\n",
              "      <th>H4EO6</th>\n",
              "      <th>H4EO7</th>\n",
              "    </tr>\n",
              "  </thead>\n",
              "  <tbody>\n",
              "    <tr>\n",
              "      <th>0</th>\n",
              "      <td>5710027</td>\n",
              "      <td>2</td>\n",
              "      <td></td>\n",
              "      <td></td>\n",
              "      <td></td>\n",
              "      <td></td>\n",
              "      <td></td>\n",
              "      <td></td>\n",
              "      <td></td>\n",
              "      <td></td>\n",
              "      <td>...</td>\n",
              "      <td></td>\n",
              "      <td></td>\n",
              "      <td></td>\n",
              "      <td></td>\n",
              "      <td></td>\n",
              "      <td></td>\n",
              "      <td></td>\n",
              "      <td></td>\n",
              "      <td></td>\n",
              "      <td></td>\n",
              "    </tr>\n",
              "    <tr>\n",
              "      <th>1</th>\n",
              "      <td>5710131</td>\n",
              "      <td>2</td>\n",
              "      <td>19.42739726</td>\n",
              "      <td>5</td>\n",
              "      <td>6</td>\n",
              "      <td>2008</td>\n",
              "      <td>2288160</td>\n",
              "      <td>160</td>\n",
              "      <td>2</td>\n",
              "      <td>V5.4</td>\n",
              "      <td>...</td>\n",
              "      <td>0</td>\n",
              "      <td>0</td>\n",
              "      <td>0</td>\n",
              "      <td>0</td>\n",
              "      <td>0</td>\n",
              "      <td>0</td>\n",
              "      <td>0</td>\n",
              "      <td>0</td>\n",
              "      <td>2</td>\n",
              "      <td>1</td>\n",
              "    </tr>\n",
              "    <tr>\n",
              "      <th>2</th>\n",
              "      <td>5710317</td>\n",
              "      <td>1</td>\n",
              "      <td></td>\n",
              "      <td></td>\n",
              "      <td></td>\n",
              "      <td></td>\n",
              "      <td></td>\n",
              "      <td></td>\n",
              "      <td></td>\n",
              "      <td></td>\n",
              "      <td>...</td>\n",
              "      <td></td>\n",
              "      <td></td>\n",
              "      <td></td>\n",
              "      <td></td>\n",
              "      <td></td>\n",
              "      <td></td>\n",
              "      <td></td>\n",
              "      <td></td>\n",
              "      <td></td>\n",
              "      <td></td>\n",
              "    </tr>\n",
              "    <tr>\n",
              "      <th>3</th>\n",
              "      <td>5710386</td>\n",
              "      <td>1</td>\n",
              "      <td>20.43013699</td>\n",
              "      <td>5</td>\n",
              "      <td>22</td>\n",
              "      <td>2008</td>\n",
              "      <td>2288238</td>\n",
              "      <td>238</td>\n",
              "      <td>1</td>\n",
              "      <td>V5.4</td>\n",
              "      <td>...</td>\n",
              "      <td>0</td>\n",
              "      <td>0</td>\n",
              "      <td>0</td>\n",
              "      <td>0</td>\n",
              "      <td>0</td>\n",
              "      <td>0</td>\n",
              "      <td>0</td>\n",
              "      <td>0</td>\n",
              "      <td>4</td>\n",
              "      <td>1</td>\n",
              "    </tr>\n",
              "    <tr>\n",
              "      <th>4</th>\n",
              "      <td>5710455</td>\n",
              "      <td>2</td>\n",
              "      <td></td>\n",
              "      <td></td>\n",
              "      <td></td>\n",
              "      <td></td>\n",
              "      <td></td>\n",
              "      <td></td>\n",
              "      <td></td>\n",
              "      <td></td>\n",
              "      <td>...</td>\n",
              "      <td></td>\n",
              "      <td></td>\n",
              "      <td></td>\n",
              "      <td></td>\n",
              "      <td></td>\n",
              "      <td></td>\n",
              "      <td></td>\n",
              "      <td></td>\n",
              "      <td></td>\n",
              "      <td></td>\n",
              "    </tr>\n",
              "  </tbody>\n",
              "</table>\n",
              "<p>5 rows × 976 columns</p>\n",
              "</div>\n",
              "      <button class=\"colab-df-convert\" onclick=\"convertToInteractive('df-f9cd9361-af9e-433f-85b2-fb4df573ec36')\"\n",
              "              title=\"Convert this dataframe to an interactive table.\"\n",
              "              style=\"display:none;\">\n",
              "        \n",
              "  <svg xmlns=\"http://www.w3.org/2000/svg\" height=\"24px\"viewBox=\"0 0 24 24\"\n",
              "       width=\"24px\">\n",
              "    <path d=\"M0 0h24v24H0V0z\" fill=\"none\"/>\n",
              "    <path d=\"M18.56 5.44l.94 2.06.94-2.06 2.06-.94-2.06-.94-.94-2.06-.94 2.06-2.06.94zm-11 1L8.5 8.5l.94-2.06 2.06-.94-2.06-.94L8.5 2.5l-.94 2.06-2.06.94zm10 10l.94 2.06.94-2.06 2.06-.94-2.06-.94-.94-2.06-.94 2.06-2.06.94z\"/><path d=\"M17.41 7.96l-1.37-1.37c-.4-.4-.92-.59-1.43-.59-.52 0-1.04.2-1.43.59L10.3 9.45l-7.72 7.72c-.78.78-.78 2.05 0 2.83L4 21.41c.39.39.9.59 1.41.59.51 0 1.02-.2 1.41-.59l7.78-7.78 2.81-2.81c.8-.78.8-2.07 0-2.86zM5.41 20L4 18.59l7.72-7.72 1.47 1.35L5.41 20z\"/>\n",
              "  </svg>\n",
              "      </button>\n",
              "      \n",
              "  <style>\n",
              "    .colab-df-container {\n",
              "      display:flex;\n",
              "      flex-wrap:wrap;\n",
              "      gap: 12px;\n",
              "    }\n",
              "\n",
              "    .colab-df-convert {\n",
              "      background-color: #E8F0FE;\n",
              "      border: none;\n",
              "      border-radius: 50%;\n",
              "      cursor: pointer;\n",
              "      display: none;\n",
              "      fill: #1967D2;\n",
              "      height: 32px;\n",
              "      padding: 0 0 0 0;\n",
              "      width: 32px;\n",
              "    }\n",
              "\n",
              "    .colab-df-convert:hover {\n",
              "      background-color: #E2EBFA;\n",
              "      box-shadow: 0px 1px 2px rgba(60, 64, 67, 0.3), 0px 1px 3px 1px rgba(60, 64, 67, 0.15);\n",
              "      fill: #174EA6;\n",
              "    }\n",
              "\n",
              "    [theme=dark] .colab-df-convert {\n",
              "      background-color: #3B4455;\n",
              "      fill: #D2E3FC;\n",
              "    }\n",
              "\n",
              "    [theme=dark] .colab-df-convert:hover {\n",
              "      background-color: #434B5C;\n",
              "      box-shadow: 0px 1px 3px 1px rgba(0, 0, 0, 0.15);\n",
              "      filter: drop-shadow(0px 1px 2px rgba(0, 0, 0, 0.3));\n",
              "      fill: #FFFFFF;\n",
              "    }\n",
              "  </style>\n",
              "\n",
              "      <script>\n",
              "        const buttonEl =\n",
              "          document.querySelector('#df-f9cd9361-af9e-433f-85b2-fb4df573ec36 button.colab-df-convert');\n",
              "        buttonEl.style.display =\n",
              "          google.colab.kernel.accessAllowed ? 'block' : 'none';\n",
              "\n",
              "        async function convertToInteractive(key) {\n",
              "          const element = document.querySelector('#df-f9cd9361-af9e-433f-85b2-fb4df573ec36');\n",
              "          const dataTable =\n",
              "            await google.colab.kernel.invokeFunction('convertToInteractive',\n",
              "                                                     [key], {});\n",
              "          if (!dataTable) return;\n",
              "\n",
              "          const docLinkHtml = 'Like what you see? Visit the ' +\n",
              "            '<a target=\"_blank\" href=https://colab.research.google.com/notebooks/data_table.ipynb>data table notebook</a>'\n",
              "            + ' to learn more about interactive tables.';\n",
              "          element.innerHTML = '';\n",
              "          dataTable['output_type'] = 'display_data';\n",
              "          await google.colab.output.renderOutput(dataTable, element);\n",
              "          const docLink = document.createElement('div');\n",
              "          docLink.innerHTML = docLinkHtml;\n",
              "          element.appendChild(docLink);\n",
              "        }\n",
              "      </script>\n",
              "    </div>\n",
              "  </div>\n",
              "  "
            ]
          },
          "metadata": {},
          "execution_count": 5
        }
      ]
    },
    {
      "cell_type": "markdown",
      "source": [
        "![Screen Shot 2023-05-01 at 10.39.16 AM.png](data:image/png;base64,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)"
      ],
      "metadata": {
        "id": "M5WiN3ryZe4V"
      }
    },
    {
      "cell_type": "code",
      "source": [
        "#Manage data for variable 1\n",
        "df['H4GH5F'].value_counts()"
      ],
      "metadata": {
        "id": "BGXegclY57pS",
        "colab": {
          "base_uri": "https://localhost:8080/"
        },
        "outputId": "80d47d62-6c09-4902-ada6-1cb36392114d"
      },
      "execution_count": 36,
      "outputs": [
        {
          "output_type": "execute_result",
          "data": {
            "text/plain": [
              "5     4095\n",
              "      1390\n",
              "6      947\n",
              "4       66\n",
              "98       6\n",
              "Name: H4GH5F, dtype: int64"
            ]
          },
          "metadata": {},
          "execution_count": 36
        }
      ]
    },
    {
      "cell_type": "code",
      "source": [
        "df['Feet']= df['H4GH5F']\n",
        "df['Feet']= pd.to_numeric(df['Feet'],errors= 'coerce')\n",
        "df['Feet']= df['Feet'].loc[df['Feet'] < 96]\n",
        "df['Feet']= df['Feet'].loc[df['Feet'] != ' ']\n",
        "df['Feet'].value_counts()"
      ],
      "metadata": {
        "id": "_Jm7pJHb-2aF",
        "colab": {
          "base_uri": "https://localhost:8080/"
        },
        "outputId": "80906fb4-e726-493d-f4b3-d3ef9f7c9548"
      },
      "execution_count": 38,
      "outputs": [
        {
          "output_type": "execute_result",
          "data": {
            "text/plain": [
              "5.0    4095\n",
              "6.0     947\n",
              "4.0      66\n",
              "Name: Feet, dtype: int64"
            ]
          },
          "metadata": {},
          "execution_count": 38
        }
      ]
    },
    {
      "cell_type": "code",
      "source": [
        "df['Inches']= df['H4GH5I']\n",
        "df['Inches']= pd.to_numeric(df['Inches'],errors= 'coerce')\n",
        "df['Inches']= df['Inches'].loc[df['Inches'] < 96]\n",
        "df['Inches']= df['Inches'].loc[df['Inches'] != ' ']\n",
        "df['Inches'].value_counts()"
      ],
      "metadata": {
        "id": "L28vhw8B_IaE",
        "colab": {
          "base_uri": "https://localhost:8080/"
        },
        "outputId": "5a6a6432-d7f6-4d55-eb9d-6366d14f94df"
      },
      "execution_count": 39,
      "outputs": [
        {
          "output_type": "execute_result",
          "data": {
            "text/plain": [
              "4.0     495\n",
              "2.0     489\n",
              "6.0     482\n",
              "7.0     458\n",
              "3.0     439\n",
              "0.0     423\n",
              "11.0    412\n",
              "10.0    391\n",
              "5.0     388\n",
              "9.0     381\n",
              "1.0     380\n",
              "8.0     366\n",
              "Name: Inches, dtype: int64"
            ]
          },
          "metadata": {},
          "execution_count": 39
        }
      ]
    },
    {
      "cell_type": "code",
      "source": [
        "df['Height'] = df['Feet']*12 + df['Inches']\n",
        "df['Height'].describe()"
      ],
      "metadata": {
        "id": "3-hWgIRg_MYC",
        "colab": {
          "base_uri": "https://localhost:8080/"
        },
        "outputId": "3de4f987-a128-4b29-eb0d-0840e7f5e57b"
      },
      "execution_count": 40,
      "outputs": [
        {
          "output_type": "execute_result",
          "data": {
            "text/plain": [
              "count    5104.000000\n",
              "mean       67.457680\n",
              "std         4.141833\n",
              "min        48.000000\n",
              "25%        64.000000\n",
              "50%        67.000000\n",
              "75%        71.000000\n",
              "max        81.000000\n",
              "Name: Height, dtype: float64"
            ]
          },
          "metadata": {},
          "execution_count": 40
        }
      ]
    },
    {
      "cell_type": "code",
      "source": [
        "sns.boxplot(x = 'Height', data =df)"
      ],
      "metadata": {
        "id": "Q1Pv5DMz5-2C",
        "colab": {
          "base_uri": "https://localhost:8080/",
          "height": 466
        },
        "outputId": "fd367708-0121-45e7-fb5d-6134e6bd4f80"
      },
      "execution_count": 42,
      "outputs": [
        {
          "output_type": "execute_result",
          "data": {
            "text/plain": [
              "<Axes: xlabel='Height'>"
            ]
          },
          "metadata": {},
          "execution_count": 42
        },
        {
          "output_type": "display_data",
          "data": {
            "text/plain": [
              "<Figure size 640x480 with 1 Axes>"
            ],
            "image/png": "[encoded data removed]"
          },
          "metadata": {}
        }
      ]
    },
    {
      "cell_type": "code",
      "source": [
        "sns.histplot(x = 'Height', data =df, stat='percent', bins = 15,kde = True)"
      ],
      "metadata": {
        "id": "8TO3ir7GXzr8",
        "colab": {
          "base_uri": "https://localhost:8080/",
          "height": 466
        },
        "outputId": "0c6fec71-2696-445d-aa16-aeb5f94d8276"
      },
      "execution_count": 44,
      "outputs": [
        {
          "output_type": "execute_result",
          "data": {
            "text/plain": [
              "<Axes: xlabel='Height', ylabel='Percent'>"
            ]
          },
          "metadata": {},
          "execution_count": 44
        },
        {
          "output_type": "display_data",
          "data": {
            "text/plain": [
              "<Figure size 640x480 with 1 Axes>"
            ],
            "image/png": "[encoded data removed]"
          },
          "metadata": {}
        }
      ]
    },
    {
      "cell_type": "markdown",
      "source": [
        "![Screen Shot 2023-05-01 at 10.24.33 AM.png](data:image/png;base64,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)"
      ],
      "metadata": {
        "id": "uj8Yvn23WQ9J"
      }
    },
    {
      "cell_type": "code",
      "source": [
        "#Manage data for variable 1\n",
        "df['H4SP3H'].value_counts()"
      ],
      "metadata": {
        "id": "1N6BlzE76JZJ",
        "colab": {
          "base_uri": "https://localhost:8080/"
        },
        "outputId": "d6269baf-1e15-423a-f834-0eda6b88cf1a"
      },
      "execution_count": 6,
      "outputs": [
        {
          "output_type": "execute_result",
          "data": {
            "text/plain": [
              "      1390\n",
              "8     1167\n",
              "7     1035\n",
              "9      934\n",
              "10     674\n",
              "6      425\n",
              "11     316\n",
              "12     238\n",
              "5      130\n",
              "1       73\n",
              "4       45\n",
              "2       39\n",
              "3       30\n",
              "98       7\n",
              "96       1\n",
              "Name: H4SP3H, dtype: int64"
            ]
          },
          "metadata": {},
          "execution_count": 6
        }
      ]
    },
    {
      "cell_type": "code",
      "source": [
        "df['HOURS'] = df['H4SP3H']\n",
        "df['HOURS']= pd.to_numeric(df['HOURS'],errors= 'coerce')\n",
        "df['HOURS']= df['HOURS'].loc[df['HOURS'] < 96]\n",
        "df['HOURS']= df['HOURS'].loc[df['HOURS'] != ' ']\n",
        "df['HOURS'].value_counts()"
      ],
      "metadata": {
        "id": "_juIO4y3katR",
        "colab": {
          "base_uri": "https://localhost:8080/"
        },
        "outputId": "6076bba6-481e-4366-b1e0-5979dacf2330"
      },
      "execution_count": 7,
      "outputs": [
        {
          "output_type": "execute_result",
          "data": {
            "text/plain": [
              "8.0     1167\n",
              "7.0     1035\n",
              "9.0      934\n",
              "10.0     674\n",
              "6.0      425\n",
              "11.0     316\n",
              "12.0     238\n",
              "5.0      130\n",
              "1.0       73\n",
              "4.0       45\n",
              "2.0       39\n",
              "3.0       30\n",
              "Name: HOURS, dtype: int64"
            ]
          },
          "metadata": {},
          "execution_count": 7
        }
      ]
    },
    {
      "cell_type": "code",
      "source": [
        "df['H4SP3M'].value_counts()"
      ],
      "metadata": {
        "id": "iq3bFh_Hkem0",
        "colab": {
          "base_uri": "https://localhost:8080/"
        },
        "outputId": "44004f84-f39f-48d3-9311-0a74999e0c3f"
      },
      "execution_count": 8,
      "outputs": [
        {
          "output_type": "execute_result",
          "data": {
            "text/plain": [
              "0     3777\n",
              "      1390\n",
              "30    1195\n",
              "45      44\n",
              "15      28\n",
              "3       28\n",
              "20      10\n",
              "1        9\n",
              "98       7\n",
              "40       4\n",
              "10       4\n",
              "50       2\n",
              "35       1\n",
              "39       1\n",
              "48       1\n",
              "96       1\n",
              "55       1\n",
              "2        1\n",
              "Name: H4SP3M, dtype: int64"
            ]
          },
          "metadata": {},
          "execution_count": 8
        }
      ]
    },
    {
      "cell_type": "code",
      "source": [
        "df['MINS']= df['H4SP3M']\n",
        "df['MINS']= pd.to_numeric(df['MINS'],errors= 'coerce')\n",
        "df['MINS']= df['MINS'].loc[df['MINS'] < 96]\n",
        "df['MINS']= df['MINS'].loc[df['MINS'] != ' ']\n",
        "df['MINS'].value_counts()"
      ],
      "metadata": {
        "id": "wEwAqN22kioc",
        "colab": {
          "base_uri": "https://localhost:8080/"
        },
        "outputId": "15906845-e055-4a6c-bf3d-a140f9218d1d"
      },
      "execution_count": 9,
      "outputs": [
        {
          "output_type": "execute_result",
          "data": {
            "text/plain": [
              "0.0     3777\n",
              "30.0    1195\n",
              "45.0      44\n",
              "15.0      28\n",
              "3.0       28\n",
              "20.0      10\n",
              "1.0        9\n",
              "40.0       4\n",
              "10.0       4\n",
              "50.0       2\n",
              "55.0       1\n",
              "48.0       1\n",
              "39.0       1\n",
              "35.0       1\n",
              "2.0        1\n",
              "Name: MINS, dtype: int64"
            ]
          },
          "metadata": {},
          "execution_count": 9
        }
      ]
    },
    {
      "cell_type": "code",
      "source": [
        "df['H4SP3T'].value_counts()"
      ],
      "metadata": {
        "id": "DRL6BLTCkmUl",
        "colab": {
          "base_uri": "https://localhost:8080/"
        },
        "outputId": "0f77a8ae-3049-4747-e415-39c9e4b2220f"
      },
      "execution_count": 10,
      "outputs": [
        {
          "output_type": "execute_result",
          "data": {
            "text/plain": [
              "1    4655\n",
              "     1390\n",
              "2     452\n",
              "8       6\n",
              "6       1\n",
              "Name: H4SP3T, dtype: int64"
            ]
          },
          "metadata": {},
          "execution_count": 10
        }
      ]
    },
    {
      "cell_type": "code",
      "source": [
        "df['AM_PM']=df['H4SP3T']\n",
        "df['AM_PM'] = df['AM_PM'].loc[df['AM_PM'] !=' ']\n",
        "df['AM_PM'] = df['AM_PM'].loc[df['AM_PM'] <'6']\n",
        "df['AM_PM'].replace(['1','2'],['AM','PM'],inplace=True)\n",
        "df['AM_PM'].value_counts()"
      ],
      "metadata": {
        "id": "j6-40ZhwkqfA",
        "colab": {
          "base_uri": "https://localhost:8080/"
        },
        "outputId": "827ad391-7395-4f27-af45-3e9f0acbeb7d"
      },
      "execution_count": 11,
      "outputs": [
        {
          "output_type": "execute_result",
          "data": {
            "text/plain": [
              "AM    4655\n",
              "PM     452\n",
              "Name: AM_PM, dtype: int64"
            ]
          },
          "metadata": {},
          "execution_count": 11
        }
      ]
    },
    {
      "cell_type": "code",
      "source": [
        "df_time_convert= df[['AM_PM','HOURS','MINS']]\n",
        "#df_time_convert = df[['am_pm', 'hour', 'minutes']]"
      ],
      "metadata": {
        "id": "gdv2rTuXkt4P"
      },
      "execution_count": 12,
      "outputs": []
    },
    {
      "cell_type": "code",
      "source": [
        "#Drops the missing values/cleans it \n",
        "df_time_convert.dropna(inplace=True)"
      ],
      "metadata": {
        "id": "WgyX9F9ikxqa",
        "colab": {
          "base_uri": "https://localhost:8080/"
        },
        "outputId": "3a4c73d0-459f-46d5-d119-fed57383fe09"
      },
      "execution_count": 13,
      "outputs": [
        {
          "output_type": "stream",
          "name": "stderr",
          "text": [
            "<ipython-input-13-bd75b9aca4df>:2: SettingWithCopyWarning: \n",
            "A value is trying to be set on a copy of a slice from a DataFrame\n",
            "\n",
            "See the caveats in the documentation: https://pandas.pydata.org/pandas-docs/stable/user_guide/indexing.html#returning-a-view-versus-a-copy\n",
            "  df_time_convert.dropna(inplace=True)\n"
          ]
        }
      ]
    },
    {
      "cell_type": "code",
      "source": [
        "df_time_convert"
      ],
      "metadata": {
        "id": "Gmpfypbik1w8",
        "colab": {
          "base_uri": "https://localhost:8080/",
          "height": 424
        },
        "outputId": "09e3151f-f025-44dc-e1e2-43867389b448"
      },
      "execution_count": 14,
      "outputs": [
        {
          "output_type": "execute_result",
          "data": {
            "text/plain": [
              "     AM_PM  HOURS  MINS\n",
              "1       AM    7.0  30.0\n",
              "3       AM    9.0   0.0\n",
              "7       AM    6.0  30.0\n",
              "9       PM    2.0   0.0\n",
              "11      AM    5.0   0.0\n",
              "...    ...    ...   ...\n",
              "6499    AM   10.0   0.0\n",
              "6500    AM    8.0   0.0\n",
              "6501    AM    5.0  30.0\n",
              "6502    AM    8.0   2.0\n",
              "6503    AM    7.0  30.0\n",
              "\n",
              "[5106 rows x 3 columns]"
            ],
            "text/html": [
              "\n",
              "  <div id=\"df-66226512-40bb-49fa-810b-90b6a6f2b869\">\n",
              "    <div class=\"colab-df-container\">\n",
              "      <div>\n",
              "<style scoped>\n",
              "    .dataframe tbody tr th:only-of-type {\n",
              "        vertical-align: middle;\n",
              "    }\n",
              "\n",
              "    .dataframe tbody tr th {\n",
              "        vertical-align: top;\n",
              "    }\n",
              "\n",
              "    .dataframe thead th {\n",
              "        text-align: right;\n",
              "    }\n",
              "</style>\n",
              "<table border=\"1\" class=\"dataframe\">\n",
              "  <thead>\n",
              "    <tr style=\"text-align: right;\">\n",
              "      <th></th>\n",
              "      <th>AM_PM</th>\n",
              "      <th>HOURS</th>\n",
              "      <th>MINS</th>\n",
              "    </tr>\n",
              "  </thead>\n",
              "  <tbody>\n",
              "    <tr>\n",
              "      <th>1</th>\n",
              "      <td>AM</td>\n",
              "      <td>7.0</td>\n",
              "      <td>30.0</td>\n",
              "    </tr>\n",
              "    <tr>\n",
              "      <th>3</th>\n",
              "      <td>AM</td>\n",
              "      <td>9.0</td>\n",
              "      <td>0.0</td>\n",
              "    </tr>\n",
              "    <tr>\n",
              "      <th>7</th>\n",
              "      <td>AM</td>\n",
              "      <td>6.0</td>\n",
              "      <td>30.0</td>\n",
              "    </tr>\n",
              "    <tr>\n",
              "      <th>9</th>\n",
              "      <td>PM</td>\n",
              "      <td>2.0</td>\n",
              "      <td>0.0</td>\n",
              "    </tr>\n",
              "    <tr>\n",
              "      <th>11</th>\n",
              "      <td>AM</td>\n",
              "      <td>5.0</td>\n",
              "      <td>0.0</td>\n",
              "    </tr>\n",
              "    <tr>\n",
              "      <th>...</th>\n",
              "      <td>...</td>\n",
              "      <td>...</td>\n",
              "      <td>...</td>\n",
              "    </tr>\n",
              "    <tr>\n",
              "      <th>6499</th>\n",
              "      <td>AM</td>\n",
              "      <td>10.0</td>\n",
              "      <td>0.0</td>\n",
              "    </tr>\n",
              "    <tr>\n",
              "      <th>6500</th>\n",
              "      <td>AM</td>\n",
              "      <td>8.0</td>\n",
              "      <td>0.0</td>\n",
              "    </tr>\n",
              "    <tr>\n",
              "      <th>6501</th>\n",
              "      <td>AM</td>\n",
              "      <td>5.0</td>\n",
              "      <td>30.0</td>\n",
              "    </tr>\n",
              "    <tr>\n",
              "      <th>6502</th>\n",
              "      <td>AM</td>\n",
              "      <td>8.0</td>\n",
              "      <td>2.0</td>\n",
              "    </tr>\n",
              "    <tr>\n",
              "      <th>6503</th>\n",
              "      <td>AM</td>\n",
              "      <td>7.0</td>\n",
              "      <td>30.0</td>\n",
              "    </tr>\n",
              "  </tbody>\n",
              "</table>\n",
              "<p>5106 rows × 3 columns</p>\n",
              "</div>\n",
              "      <button class=\"colab-df-convert\" onclick=\"convertToInteractive('df-66226512-40bb-49fa-810b-90b6a6f2b869')\"\n",
              "              title=\"Convert this dataframe to an interactive table.\"\n",
              "              style=\"display:none;\">\n",
              "        \n",
              "  <svg xmlns=\"http://www.w3.org/2000/svg\" height=\"24px\"viewBox=\"0 0 24 24\"\n",
              "       width=\"24px\">\n",
              "    <path d=\"M0 0h24v24H0V0z\" fill=\"none\"/>\n",
              "    <path d=\"M18.56 5.44l.94 2.06.94-2.06 2.06-.94-2.06-.94-.94-2.06-.94 2.06-2.06.94zm-11 1L8.5 8.5l.94-2.06 2.06-.94-2.06-.94L8.5 2.5l-.94 2.06-2.06.94zm10 10l.94 2.06.94-2.06 2.06-.94-2.06-.94-.94-2.06-.94 2.06-2.06.94z\"/><path d=\"M17.41 7.96l-1.37-1.37c-.4-.4-.92-.59-1.43-.59-.52 0-1.04.2-1.43.59L10.3 9.45l-7.72 7.72c-.78.78-.78 2.05 0 2.83L4 21.41c.39.39.9.59 1.41.59.51 0 1.02-.2 1.41-.59l7.78-7.78 2.81-2.81c.8-.78.8-2.07 0-2.86zM5.41 20L4 18.59l7.72-7.72 1.47 1.35L5.41 20z\"/>\n",
              "  </svg>\n",
              "      </button>\n",
              "      \n",
              "  <style>\n",
              "    .colab-df-container {\n",
              "      display:flex;\n",
              "      flex-wrap:wrap;\n",
              "      gap: 12px;\n",
              "    }\n",
              "\n",
              "    .colab-df-convert {\n",
              "      background-color: #E8F0FE;\n",
              "      border: none;\n",
              "      border-radius: 50%;\n",
              "      cursor: pointer;\n",
              "      display: none;\n",
              "      fill: #1967D2;\n",
              "      height: 32px;\n",
              "      padding: 0 0 0 0;\n",
              "      width: 32px;\n",
              "    }\n",
              "\n",
              "    .colab-df-convert:hover {\n",
              "      background-color: #E2EBFA;\n",
              "      box-shadow: 0px 1px 2px rgba(60, 64, 67, 0.3), 0px 1px 3px 1px rgba(60, 64, 67, 0.15);\n",
              "      fill: #174EA6;\n",
              "    }\n",
              "\n",
              "    [theme=dark] .colab-df-convert {\n",
              "      background-color: #3B4455;\n",
              "      fill: #D2E3FC;\n",
              "    }\n",
              "\n",
              "    [theme=dark] .colab-df-convert:hover {\n",
              "      background-color: #434B5C;\n",
              "      box-shadow: 0px 1px 3px 1px rgba(0, 0, 0, 0.15);\n",
              "      filter: drop-shadow(0px 1px 2px rgba(0, 0, 0, 0.3));\n",
              "      fill: #FFFFFF;\n",
              "    }\n",
              "  </style>\n",
              "\n",
              "      <script>\n",
              "        const buttonEl =\n",
              "          document.querySelector('#df-66226512-40bb-49fa-810b-90b6a6f2b869 button.colab-df-convert');\n",
              "        buttonEl.style.display =\n",
              "          google.colab.kernel.accessAllowed ? 'block' : 'none';\n",
              "\n",
              "        async function convertToInteractive(key) {\n",
              "          const element = document.querySelector('#df-66226512-40bb-49fa-810b-90b6a6f2b869');\n",
              "          const dataTable =\n",
              "            await google.colab.kernel.invokeFunction('convertToInteractive',\n",
              "                                                     [key], {});\n",
              "          if (!dataTable) return;\n",
              "\n",
              "          const docLinkHtml = 'Like what you see? Visit the ' +\n",
              "            '<a target=\"_blank\" href=https://colab.research.google.com/notebooks/data_table.ipynb>data table notebook</a>'\n",
              "            + ' to learn more about interactive tables.';\n",
              "          element.innerHTML = '';\n",
              "          dataTable['output_type'] = 'display_data';\n",
              "          await google.colab.output.renderOutput(dataTable, element);\n",
              "          const docLink = document.createElement('div');\n",
              "          docLink.innerHTML = docLinkHtml;\n",
              "          element.appendChild(docLink);\n",
              "        }\n",
              "      </script>\n",
              "    </div>\n",
              "  </div>\n",
              "  "
            ]
          },
          "metadata": {},
          "execution_count": 14
        }
      ]
    },
    {
      "cell_type": "code",
      "source": [
        "def to_military_time_float(in_hour,in_min,am_pm):\n",
        "  out_time = 0\n",
        "  if in_hour == '12':\n",
        "\n",
        "    if am_pm == 'AM': \n",
        "      out_time = 0\n",
        "    else:\n",
        "      out_time = int(in_hour)\n",
        "  \n",
        "  elif (0 < int(in_hour) < 12):\n",
        "    if am_pm == 'AM':\n",
        "      out_time = int(in_hour)\n",
        "    else:\n",
        "      out_time = int(in_hour) + 12\n",
        "  \n",
        "  \n",
        "\n",
        "  out_min = int(in_min) / 60\n",
        "\n",
        "  out_time += out_min \n",
        "\n",
        "\n",
        "\n",
        "\n",
        "  return out_time"
      ],
      "metadata": {
        "id": "IIFfyPM5k6rS"
      },
      "execution_count": 15,
      "outputs": []
    },
    {
      "cell_type": "code",
      "source": [
        "to_military_time_float('9','30','AM')"
      ],
      "metadata": {
        "id": "NkKMK7l_k-4x",
        "colab": {
          "base_uri": "https://localhost:8080/"
        },
        "outputId": "902c9af4-aa84-43bb-8819-bcea9fda204e"
      },
      "execution_count": 16,
      "outputs": [
        {
          "output_type": "execute_result",
          "data": {
            "text/plain": [
              "9.5"
            ]
          },
          "metadata": {},
          "execution_count": 16
        }
      ]
    },
    {
      "cell_type": "code",
      "source": [
        "#df_time_convert['Time Value (float)'] =  df_time_convert.apply(lambda x: to_military_time_float(x['hour'],x['minutes'],x['am_pm']),axis = 1)"
      ],
      "metadata": {
        "id": "lWVPkY_QlCfo"
      },
      "execution_count": 17,
      "outputs": []
    },
    {
      "cell_type": "code",
      "source": [
        "df_time_convert['Time Value (float)'] = df_time_convert.apply(lambda x: to_military_time_float(x['HOURS'],x['MINS'],x['AM_PM']),axis = 1)\n",
        "#axis=1, to the column, apply the values \n",
        "df_time_convert"
      ],
      "metadata": {
        "id": "jdObNmW9lF8l",
        "colab": {
          "base_uri": "https://localhost:8080/",
          "height": 528
        },
        "outputId": "0e18f99c-0eb4-4e8f-ffbb-b02c1cf95dd5"
      },
      "execution_count": 18,
      "outputs": [
        {
          "output_type": "stream",
          "name": "stderr",
          "text": [
            "<ipython-input-18-582745c5d8a8>:1: SettingWithCopyWarning: \n",
            "A value is trying to be set on a copy of a slice from a DataFrame.\n",
            "Try using .loc[row_indexer,col_indexer] = value instead\n",
            "\n",
            "See the caveats in the documentation: https://pandas.pydata.org/pandas-docs/stable/user_guide/indexing.html#returning-a-view-versus-a-copy\n",
            "  df_time_convert['Time Value (float)'] = df_time_convert.apply(lambda x: to_military_time_float(x['HOURS'],x['MINS'],x['AM_PM']),axis = 1)\n"
          ]
        },
        {
          "output_type": "execute_result",
          "data": {
            "text/plain": [
              "     AM_PM  HOURS  MINS  Time Value (float)\n",
              "1       AM    7.0  30.0            7.500000\n",
              "3       AM    9.0   0.0            9.000000\n",
              "7       AM    6.0  30.0            6.500000\n",
              "9       PM    2.0   0.0           14.000000\n",
              "11      AM    5.0   0.0            5.000000\n",
              "...    ...    ...   ...                 ...\n",
              "6499    AM   10.0   0.0           10.000000\n",
              "6500    AM    8.0   0.0            8.000000\n",
              "6501    AM    5.0  30.0            5.500000\n",
              "6502    AM    8.0   2.0            8.033333\n",
              "6503    AM    7.0  30.0            7.500000\n",
              "\n",
              "[5106 rows x 4 columns]"
            ],
            "text/html": [
              "\n",
              "  <div id=\"df-1d18906e-3c98-45fc-86bf-bd8ca1d6b89e\">\n",
              "    <div class=\"colab-df-container\">\n",
              "      <div>\n",
              "<style scoped>\n",
              "    .dataframe tbody tr th:only-of-type {\n",
              "        vertical-align: middle;\n",
              "    }\n",
              "\n",
              "    .dataframe tbody tr th {\n",
              "        vertical-align: top;\n",
              "    }\n",
              "\n",
              "    .dataframe thead th {\n",
              "        text-align: right;\n",
              "    }\n",
              "</style>\n",
              "<table border=\"1\" class=\"dataframe\">\n",
              "  <thead>\n",
              "    <tr style=\"text-align: right;\">\n",
              "      <th></th>\n",
              "      <th>AM_PM</th>\n",
              "      <th>HOURS</th>\n",
              "      <th>MINS</th>\n",
              "      <th>Time Value (float)</th>\n",
              "    </tr>\n",
              "  </thead>\n",
              "  <tbody>\n",
              "    <tr>\n",
              "      <th>1</th>\n",
              "      <td>AM</td>\n",
              "      <td>7.0</td>\n",
              "      <td>30.0</td>\n",
              "      <td>7.500000</td>\n",
              "    </tr>\n",
              "    <tr>\n",
              "      <th>3</th>\n",
              "      <td>AM</td>\n",
              "      <td>9.0</td>\n",
              "      <td>0.0</td>\n",
              "      <td>9.000000</td>\n",
              "    </tr>\n",
              "    <tr>\n",
              "      <th>7</th>\n",
              "      <td>AM</td>\n",
              "      <td>6.0</td>\n",
              "      <td>30.0</td>\n",
              "      <td>6.500000</td>\n",
              "    </tr>\n",
              "    <tr>\n",
              "      <th>9</th>\n",
              "      <td>PM</td>\n",
              "      <td>2.0</td>\n",
              "      <td>0.0</td>\n",
              "      <td>14.000000</td>\n",
              "    </tr>\n",
              "    <tr>\n",
              "      <th>11</th>\n",
              "      <td>AM</td>\n",
              "      <td>5.0</td>\n",
              "      <td>0.0</td>\n",
              "      <td>5.000000</td>\n",
              "    </tr>\n",
              "    <tr>\n",
              "      <th>...</th>\n",
              "      <td>...</td>\n",
              "      <td>...</td>\n",
              "      <td>...</td>\n",
              "      <td>...</td>\n",
              "    </tr>\n",
              "    <tr>\n",
              "      <th>6499</th>\n",
              "      <td>AM</td>\n",
              "      <td>10.0</td>\n",
              "      <td>0.0</td>\n",
              "      <td>10.000000</td>\n",
              "    </tr>\n",
              "    <tr>\n",
              "      <th>6500</th>\n",
              "      <td>AM</td>\n",
              "      <td>8.0</td>\n",
              "      <td>0.0</td>\n",
              "      <td>8.000000</td>\n",
              "    </tr>\n",
              "    <tr>\n",
              "      <th>6501</th>\n",
              "      <td>AM</td>\n",
              "      <td>5.0</td>\n",
              "      <td>30.0</td>\n",
              "      <td>5.500000</td>\n",
              "    </tr>\n",
              "    <tr>\n",
              "      <th>6502</th>\n",
              "      <td>AM</td>\n",
              "      <td>8.0</td>\n",
              "      <td>2.0</td>\n",
              "      <td>8.033333</td>\n",
              "    </tr>\n",
              "    <tr>\n",
              "      <th>6503</th>\n",
              "      <td>AM</td>\n",
              "      <td>7.0</td>\n",
              "      <td>30.0</td>\n",
              "      <td>7.500000</td>\n",
              "    </tr>\n",
              "  </tbody>\n",
              "</table>\n",
              "<p>5106 rows × 4 columns</p>\n",
              "</div>\n",
              "      <button class=\"colab-df-convert\" onclick=\"convertToInteractive('df-1d18906e-3c98-45fc-86bf-bd8ca1d6b89e')\"\n",
              "              title=\"Convert this dataframe to an interactive table.\"\n",
              "              style=\"display:none;\">\n",
              "        \n",
              "  <svg xmlns=\"http://www.w3.org/2000/svg\" height=\"24px\"viewBox=\"0 0 24 24\"\n",
              "       width=\"24px\">\n",
              "    <path d=\"M0 0h24v24H0V0z\" fill=\"none\"/>\n",
              "    <path d=\"M18.56 5.44l.94 2.06.94-2.06 2.06-.94-2.06-.94-.94-2.06-.94 2.06-2.06.94zm-11 1L8.5 8.5l.94-2.06 2.06-.94-2.06-.94L8.5 2.5l-.94 2.06-2.06.94zm10 10l.94 2.06.94-2.06 2.06-.94-2.06-.94-.94-2.06-.94 2.06-2.06.94z\"/><path d=\"M17.41 7.96l-1.37-1.37c-.4-.4-.92-.59-1.43-.59-.52 0-1.04.2-1.43.59L10.3 9.45l-7.72 7.72c-.78.78-.78 2.05 0 2.83L4 21.41c.39.39.9.59 1.41.59.51 0 1.02-.2 1.41-.59l7.78-7.78 2.81-2.81c.8-.78.8-2.07 0-2.86zM5.41 20L4 18.59l7.72-7.72 1.47 1.35L5.41 20z\"/>\n",
              "  </svg>\n",
              "      </button>\n",
              "      \n",
              "  <style>\n",
              "    .colab-df-container {\n",
              "      display:flex;\n",
              "      flex-wrap:wrap;\n",
              "      gap: 12px;\n",
              "    }\n",
              "\n",
              "    .colab-df-convert {\n",
              "      background-color: #E8F0FE;\n",
              "      border: none;\n",
              "      border-radius: 50%;\n",
              "      cursor: pointer;\n",
              "      display: none;\n",
              "      fill: #1967D2;\n",
              "      height: 32px;\n",
              "      padding: 0 0 0 0;\n",
              "      width: 32px;\n",
              "    }\n",
              "\n",
              "    .colab-df-convert:hover {\n",
              "      background-color: #E2EBFA;\n",
              "      box-shadow: 0px 1px 2px rgba(60, 64, 67, 0.3), 0px 1px 3px 1px rgba(60, 64, 67, 0.15);\n",
              "      fill: #174EA6;\n",
              "    }\n",
              "\n",
              "    [theme=dark] .colab-df-convert {\n",
              "      background-color: #3B4455;\n",
              "      fill: #D2E3FC;\n",
              "    }\n",
              "\n",
              "    [theme=dark] .colab-df-convert:hover {\n",
              "      background-color: #434B5C;\n",
              "      box-shadow: 0px 1px 3px 1px rgba(0, 0, 0, 0.15);\n",
              "      filter: drop-shadow(0px 1px 2px rgba(0, 0, 0, 0.3));\n",
              "      fill: #FFFFFF;\n",
              "    }\n",
              "  </style>\n",
              "\n",
              "      <script>\n",
              "        const buttonEl =\n",
              "          document.querySelector('#df-1d18906e-3c98-45fc-86bf-bd8ca1d6b89e button.colab-df-convert');\n",
              "        buttonEl.style.display =\n",
              "          google.colab.kernel.accessAllowed ? 'block' : 'none';\n",
              "\n",
              "        async function convertToInteractive(key) {\n",
              "          const element = document.querySelector('#df-1d18906e-3c98-45fc-86bf-bd8ca1d6b89e');\n",
              "          const dataTable =\n",
              "            await google.colab.kernel.invokeFunction('convertToInteractive',\n",
              "                                                     [key], {});\n",
              "          if (!dataTable) return;\n",
              "\n",
              "          const docLinkHtml = 'Like what you see? Visit the ' +\n",
              "            '<a target=\"_blank\" href=https://colab.research.google.com/notebooks/data_table.ipynb>data table notebook</a>'\n",
              "            + ' to learn more about interactive tables.';\n",
              "          element.innerHTML = '';\n",
              "          dataTable['output_type'] = 'display_data';\n",
              "          await google.colab.output.renderOutput(dataTable, element);\n",
              "          const docLink = document.createElement('div');\n",
              "          docLink.innerHTML = docLinkHtml;\n",
              "          element.appendChild(docLink);\n",
              "        }\n",
              "      </script>\n",
              "    </div>\n",
              "  </div>\n",
              "  "
            ]
          },
          "metadata": {},
          "execution_count": 18
        }
      ]
    },
    {
      "cell_type": "code",
      "source": [
        "df_time_convert.loc[df_time_convert['Time Value (float)'] > 24]"
      ],
      "metadata": {
        "id": "dbLC_N3nlKiQ",
        "colab": {
          "base_uri": "https://localhost:8080/",
          "height": 49
        },
        "outputId": "4aad6176-cd41-4c6d-8787-f3e2cb9102ac"
      },
      "execution_count": 19,
      "outputs": [
        {
          "output_type": "execute_result",
          "data": {
            "text/plain": [
              "Empty DataFrame\n",
              "Columns: [AM_PM, HOURS, MINS, Time Value (float)]\n",
              "Index: []"
            ],
            "text/html": [
              "\n",
              "  <div id=\"df-d887fab2-55e3-424a-bf32-2863496fe446\">\n",
              "    <div class=\"colab-df-container\">\n",
              "      <div>\n",
              "<style scoped>\n",
              "    .dataframe tbody tr th:only-of-type {\n",
              "        vertical-align: middle;\n",
              "    }\n",
              "\n",
              "    .dataframe tbody tr th {\n",
              "        vertical-align: top;\n",
              "    }\n",
              "\n",
              "    .dataframe thead th {\n",
              "        text-align: right;\n",
              "    }\n",
              "</style>\n",
              "<table border=\"1\" class=\"dataframe\">\n",
              "  <thead>\n",
              "    <tr style=\"text-align: right;\">\n",
              "      <th></th>\n",
              "      <th>AM_PM</th>\n",
              "      <th>HOURS</th>\n",
              "      <th>MINS</th>\n",
              "      <th>Time Value (float)</th>\n",
              "    </tr>\n",
              "  </thead>\n",
              "  <tbody>\n",
              "  </tbody>\n",
              "</table>\n",
              "</div>\n",
              "      <button class=\"colab-df-convert\" onclick=\"convertToInteractive('df-d887fab2-55e3-424a-bf32-2863496fe446')\"\n",
              "              title=\"Convert this dataframe to an interactive table.\"\n",
              "              style=\"display:none;\">\n",
              "        \n",
              "  <svg xmlns=\"http://www.w3.org/2000/svg\" height=\"24px\"viewBox=\"0 0 24 24\"\n",
              "       width=\"24px\">\n",
              "    <path d=\"M0 0h24v24H0V0z\" fill=\"none\"/>\n",
              "    <path d=\"M18.56 5.44l.94 2.06.94-2.06 2.06-.94-2.06-.94-.94-2.06-.94 2.06-2.06.94zm-11 1L8.5 8.5l.94-2.06 2.06-.94-2.06-.94L8.5 2.5l-.94 2.06-2.06.94zm10 10l.94 2.06.94-2.06 2.06-.94-2.06-.94-.94-2.06-.94 2.06-2.06.94z\"/><path d=\"M17.41 7.96l-1.37-1.37c-.4-.4-.92-.59-1.43-.59-.52 0-1.04.2-1.43.59L10.3 9.45l-7.72 7.72c-.78.78-.78 2.05 0 2.83L4 21.41c.39.39.9.59 1.41.59.51 0 1.02-.2 1.41-.59l7.78-7.78 2.81-2.81c.8-.78.8-2.07 0-2.86zM5.41 20L4 18.59l7.72-7.72 1.47 1.35L5.41 20z\"/>\n",
              "  </svg>\n",
              "      </button>\n",
              "      \n",
              "  <style>\n",
              "    .colab-df-container {\n",
              "      display:flex;\n",
              "      flex-wrap:wrap;\n",
              "      gap: 12px;\n",
              "    }\n",
              "\n",
              "    .colab-df-convert {\n",
              "      background-color: #E8F0FE;\n",
              "      border: none;\n",
              "      border-radius: 50%;\n",
              "      cursor: pointer;\n",
              "      display: none;\n",
              "      fill: #1967D2;\n",
              "      height: 32px;\n",
              "      padding: 0 0 0 0;\n",
              "      width: 32px;\n",
              "    }\n",
              "\n",
              "    .colab-df-convert:hover {\n",
              "      background-color: #E2EBFA;\n",
              "      box-shadow: 0px 1px 2px rgba(60, 64, 67, 0.3), 0px 1px 3px 1px rgba(60, 64, 67, 0.15);\n",
              "      fill: #174EA6;\n",
              "    }\n",
              "\n",
              "    [theme=dark] .colab-df-convert {\n",
              "      background-color: #3B4455;\n",
              "      fill: #D2E3FC;\n",
              "    }\n",
              "\n",
              "    [theme=dark] .colab-df-convert:hover {\n",
              "      background-color: #434B5C;\n",
              "      box-shadow: 0px 1px 3px 1px rgba(0, 0, 0, 0.15);\n",
              "      filter: drop-shadow(0px 1px 2px rgba(0, 0, 0, 0.3));\n",
              "      fill: #FFFFFF;\n",
              "    }\n",
              "  </style>\n",
              "\n",
              "      <script>\n",
              "        const buttonEl =\n",
              "          document.querySelector('#df-d887fab2-55e3-424a-bf32-2863496fe446 button.colab-df-convert');\n",
              "        buttonEl.style.display =\n",
              "          google.colab.kernel.accessAllowed ? 'block' : 'none';\n",
              "\n",
              "        async function convertToInteractive(key) {\n",
              "          const element = document.querySelector('#df-d887fab2-55e3-424a-bf32-2863496fe446');\n",
              "          const dataTable =\n",
              "            await google.colab.kernel.invokeFunction('convertToInteractive',\n",
              "                                                     [key], {});\n",
              "          if (!dataTable) return;\n",
              "\n",
              "          const docLinkHtml = 'Like what you see? Visit the ' +\n",
              "            '<a target=\"_blank\" href=https://colab.research.google.com/notebooks/data_table.ipynb>data table notebook</a>'\n",
              "            + ' to learn more about interactive tables.';\n",
              "          element.innerHTML = '';\n",
              "          dataTable['output_type'] = 'display_data';\n",
              "          await google.colab.output.renderOutput(dataTable, element);\n",
              "          const docLink = document.createElement('div');\n",
              "          docLink.innerHTML = docLinkHtml;\n",
              "          element.appendChild(docLink);\n",
              "        }\n",
              "      </script>\n",
              "    </div>\n",
              "  </div>\n",
              "  "
            ]
          },
          "metadata": {},
          "execution_count": 19
        }
      ]
    },
    {
      "cell_type": "code",
      "source": [
        "#df= df.assign(Name for the times = df_time_convert['Time Value (float)'])"
      ],
      "metadata": {
        "id": "YznwShvKlO-c"
      },
      "execution_count": 20,
      "outputs": []
    },
    {
      "cell_type": "code",
      "source": [
        "df= df.assign(Get_up_time= df_time_convert['Time Value (float)'])"
      ],
      "metadata": {
        "id": "Z0LV7WfzlTmm"
      },
      "execution_count": 30,
      "outputs": []
    },
    {
      "cell_type": "code",
      "source": [
        "df"
      ],
      "metadata": {
        "id": "-QqNOPVclXFK",
        "colab": {
          "base_uri": "https://localhost:8080/",
          "height": 488
        },
        "outputId": "632d43c7-768c-47a2-f010-9b743e488281"
      },
      "execution_count": 22,
      "outputs": [
        {
          "output_type": "execute_result",
          "data": {
            "text/plain": [
              "          AID  BIO_SEX        agew1 IMONTH4 IDAY4 IYEAR4   MACNO4 INTID4  \\\n",
              "0     5710027        2                                                     \n",
              "1     5710131        2  19.42739726       5     6   2008  2288160    160   \n",
              "2     5710317        1                                                     \n",
              "3     5710386        1  20.43013699       5    22   2008  2288238    238   \n",
              "4     5710455        2                                                     \n",
              "...       ...      ...          ...     ...   ...    ...      ...    ...   \n",
              "6499  9971993        2  14.26027397       6     7   2008  2288373    373   \n",
              "6500  9971993        1                    2    13   2008  2288343    343   \n",
              "6501  9971997        1  15.09315068       3    22   2008  2288325    325   \n",
              "6502  9971997        2  15.50958904       4     1   2008  2288325    325   \n",
              "6503  9971997        1                    4    16   2008  2288316    316   \n",
              "\n",
              "     BIO_SEX4 VERSION4  ... H4EO5G H4EO5H H4EO5I H4EO5J H4EO6 H4EO7 HOURS  \\\n",
              "0                       ...                                           NaN   \n",
              "1           2     V5.4  ...      0      0      0      0     2     1   7.0   \n",
              "2                       ...                                           NaN   \n",
              "3           1     V5.4  ...      0      0      0      0     4     1   9.0   \n",
              "4                       ...                                           NaN   \n",
              "...       ...      ...  ...    ...    ...    ...    ...   ...   ...   ...   \n",
              "6499        2     V5.4  ...      0      0      0      0     4     2  10.0   \n",
              "6500        1     V5.1  ...      0      0      0      0     3     2   8.0   \n",
              "6501        1     V5.2  ...      1      0      0      0     4     3   5.0   \n",
              "6502        2     V5.2  ...      0      0      0      0     3     2   8.0   \n",
              "6503        1     V5.3  ...      0      0      0      0     4     2   7.0   \n",
              "\n",
              "      MINS AM_PM    WAKE_UP  \n",
              "0      NaN   NaN        NaN  \n",
              "1     30.0    AM   7.500000  \n",
              "2      NaN   NaN        NaN  \n",
              "3      0.0    AM   9.000000  \n",
              "4      NaN   NaN        NaN  \n",
              "...    ...   ...        ...  \n",
              "6499   0.0    AM  10.000000  \n",
              "6500   0.0    AM   8.000000  \n",
              "6501  30.0    AM   5.500000  \n",
              "6502   2.0    AM   8.033333  \n",
              "6503  30.0    AM   7.500000  \n",
              "\n",
              "[6504 rows x 980 columns]"
            ],
            "text/html": [
              "\n",
              "  <div id=\"df-e0112b57-d6c3-42ef-8a28-7f5f1411ae12\">\n",
              "    <div class=\"colab-df-container\">\n",
              "      <div>\n",
              "<style scoped>\n",
              "    .dataframe tbody tr th:only-of-type {\n",
              "        vertical-align: middle;\n",
              "    }\n",
              "\n",
              "    .dataframe tbody tr th {\n",
              "        vertical-align: top;\n",
              "    }\n",
              "\n",
              "    .dataframe thead th {\n",
              "        text-align: right;\n",
              "    }\n",
              "</style>\n",
              "<table border=\"1\" class=\"dataframe\">\n",
              "  <thead>\n",
              "    <tr style=\"text-align: right;\">\n",
              "      <th></th>\n",
              "      <th>AID</th>\n",
              "      <th>BIO_SEX</th>\n",
              "      <th>agew1</th>\n",
              "      <th>IMONTH4</th>\n",
              "      <th>IDAY4</th>\n",
              "      <th>IYEAR4</th>\n",
              "      <th>MACNO4</th>\n",
              "      <th>INTID4</th>\n",
              "      <th>BIO_SEX4</th>\n",
              "      <th>VERSION4</th>\n",
              "      <th>...</th>\n",
              "      <th>H4EO5G</th>\n",
              "      <th>H4EO5H</th>\n",
              "      <th>H4EO5I</th>\n",
              "      <th>H4EO5J</th>\n",
              "      <th>H4EO6</th>\n",
              "      <th>H4EO7</th>\n",
              "      <th>HOURS</th>\n",
              "      <th>MINS</th>\n",
              "      <th>AM_PM</th>\n",
              "      <th>WAKE_UP</th>\n",
              "    </tr>\n",
              "  </thead>\n",
              "  <tbody>\n",
              "    <tr>\n",
              "      <th>0</th>\n",
              "      <td>5710027</td>\n",
              "      <td>2</td>\n",
              "      <td></td>\n",
              "      <td></td>\n",
              "      <td></td>\n",
              "      <td></td>\n",
              "      <td></td>\n",
              "      <td></td>\n",
              "      <td></td>\n",
              "      <td></td>\n",
              "      <td>...</td>\n",
              "      <td></td>\n",
              "      <td></td>\n",
              "      <td></td>\n",
              "      <td></td>\n",
              "      <td></td>\n",
              "      <td></td>\n",
              "      <td>NaN</td>\n",
              "      <td>NaN</td>\n",
              "      <td>NaN</td>\n",
              "      <td>NaN</td>\n",
              "    </tr>\n",
              "    <tr>\n",
              "      <th>1</th>\n",
              "      <td>5710131</td>\n",
              "      <td>2</td>\n",
              "      <td>19.42739726</td>\n",
              "      <td>5</td>\n",
              "      <td>6</td>\n",
              "      <td>2008</td>\n",
              "      <td>2288160</td>\n",
              "      <td>160</td>\n",
              "      <td>2</td>\n",
              "      <td>V5.4</td>\n",
              "      <td>...</td>\n",
              "      <td>0</td>\n",
              "      <td>0</td>\n",
              "      <td>0</td>\n",
              "      <td>0</td>\n",
              "      <td>2</td>\n",
              "      <td>1</td>\n",
              "      <td>7.0</td>\n",
              "      <td>30.0</td>\n",
              "      <td>AM</td>\n",
              "      <td>7.500000</td>\n",
              "    </tr>\n",
              "    <tr>\n",
              "      <th>2</th>\n",
              "      <td>5710317</td>\n",
              "      <td>1</td>\n",
              "      <td></td>\n",
              "      <td></td>\n",
              "      <td></td>\n",
              "      <td></td>\n",
              "      <td></td>\n",
              "      <td></td>\n",
              "      <td></td>\n",
              "      <td></td>\n",
              "      <td>...</td>\n",
              "      <td></td>\n",
              "      <td></td>\n",
              "      <td></td>\n",
              "      <td></td>\n",
              "      <td></td>\n",
              "      <td></td>\n",
              "      <td>NaN</td>\n",
              "      <td>NaN</td>\n",
              "      <td>NaN</td>\n",
              "      <td>NaN</td>\n",
              "    </tr>\n",
              "    <tr>\n",
              "      <th>3</th>\n",
              "      <td>5710386</td>\n",
              "      <td>1</td>\n",
              "      <td>20.43013699</td>\n",
              "      <td>5</td>\n",
              "      <td>22</td>\n",
              "      <td>2008</td>\n",
              "      <td>2288238</td>\n",
              "      <td>238</td>\n",
              "      <td>1</td>\n",
              "      <td>V5.4</td>\n",
              "      <td>...</td>\n",
              "      <td>0</td>\n",
              "      <td>0</td>\n",
              "      <td>0</td>\n",
              "      <td>0</td>\n",
              "      <td>4</td>\n",
              "      <td>1</td>\n",
              "      <td>9.0</td>\n",
              "      <td>0.0</td>\n",
              "      <td>AM</td>\n",
              "      <td>9.000000</td>\n",
              "    </tr>\n",
              "    <tr>\n",
              "      <th>4</th>\n",
              "      <td>5710455</td>\n",
              "      <td>2</td>\n",
              "      <td></td>\n",
              "      <td></td>\n",
              "      <td></td>\n",
              "      <td></td>\n",
              "      <td></td>\n",
              "      <td></td>\n",
              "      <td></td>\n",
              "      <td></td>\n",
              "      <td>...</td>\n",
              "      <td></td>\n",
              "      <td></td>\n",
              "      <td></td>\n",
              "      <td></td>\n",
              "      <td></td>\n",
              "      <td></td>\n",
              "      <td>NaN</td>\n",
              "      <td>NaN</td>\n",
              "      <td>NaN</td>\n",
              "      <td>NaN</td>\n",
              "    </tr>\n",
              "    <tr>\n",
              "      <th>...</th>\n",
              "      <td>...</td>\n",
              "      <td>...</td>\n",
              "      <td>...</td>\n",
              "      <td>...</td>\n",
              "      <td>...</td>\n",
              "      <td>...</td>\n",
              "      <td>...</td>\n",
              "      <td>...</td>\n",
              "      <td>...</td>\n",
              "      <td>...</td>\n",
              "      <td>...</td>\n",
              "      <td>...</td>\n",
              "      <td>...</td>\n",
              "      <td>...</td>\n",
              "      <td>...</td>\n",
              "      <td>...</td>\n",
              "      <td>...</td>\n",
              "      <td>...</td>\n",
              "      <td>...</td>\n",
              "      <td>...</td>\n",
              "      <td>...</td>\n",
              "    </tr>\n",
              "    <tr>\n",
              "      <th>6499</th>\n",
              "      <td>9971993</td>\n",
              "      <td>2</td>\n",
              "      <td>14.26027397</td>\n",
              "      <td>6</td>\n",
              "      <td>7</td>\n",
              "      <td>2008</td>\n",
              "      <td>2288373</td>\n",
              "      <td>373</td>\n",
              "      <td>2</td>\n",
              "      <td>V5.4</td>\n",
              "      <td>...</td>\n",
              "      <td>0</td>\n",
              "      <td>0</td>\n",
              "      <td>0</td>\n",
              "      <td>0</td>\n",
              "      <td>4</td>\n",
              "      <td>2</td>\n",
              "      <td>10.0</td>\n",
              "      <td>0.0</td>\n",
              "      <td>AM</td>\n",
              "      <td>10.000000</td>\n",
              "    </tr>\n",
              "    <tr>\n",
              "      <th>6500</th>\n",
              "      <td>9971993</td>\n",
              "      <td>1</td>\n",
              "      <td></td>\n",
              "      <td>2</td>\n",
              "      <td>13</td>\n",
              "      <td>2008</td>\n",
              "      <td>2288343</td>\n",
              "      <td>343</td>\n",
              "      <td>1</td>\n",
              "      <td>V5.1</td>\n",
              "      <td>...</td>\n",
              "      <td>0</td>\n",
              "      <td>0</td>\n",
              "      <td>0</td>\n",
              "      <td>0</td>\n",
              "      <td>3</td>\n",
              "      <td>2</td>\n",
              "      <td>8.0</td>\n",
              "      <td>0.0</td>\n",
              "      <td>AM</td>\n",
              "      <td>8.000000</td>\n",
              "    </tr>\n",
              "    <tr>\n",
              "      <th>6501</th>\n",
              "      <td>9971997</td>\n",
              "      <td>1</td>\n",
              "      <td>15.09315068</td>\n",
              "      <td>3</td>\n",
              "      <td>22</td>\n",
              "      <td>2008</td>\n",
              "      <td>2288325</td>\n",
              "      <td>325</td>\n",
              "      <td>1</td>\n",
              "      <td>V5.2</td>\n",
              "      <td>...</td>\n",
              "      <td>1</td>\n",
              "      <td>0</td>\n",
              "      <td>0</td>\n",
              "      <td>0</td>\n",
              "      <td>4</td>\n",
              "      <td>3</td>\n",
              "      <td>5.0</td>\n",
              "      <td>30.0</td>\n",
              "      <td>AM</td>\n",
              "      <td>5.500000</td>\n",
              "    </tr>\n",
              "    <tr>\n",
              "      <th>6502</th>\n",
              "      <td>9971997</td>\n",
              "      <td>2</td>\n",
              "      <td>15.50958904</td>\n",
              "      <td>4</td>\n",
              "      <td>1</td>\n",
              "      <td>2008</td>\n",
              "      <td>2288325</td>\n",
              "      <td>325</td>\n",
              "      <td>2</td>\n",
              "      <td>V5.2</td>\n",
              "      <td>...</td>\n",
              "      <td>0</td>\n",
              "      <td>0</td>\n",
              "      <td>0</td>\n",
              "      <td>0</td>\n",
              "      <td>3</td>\n",
              "      <td>2</td>\n",
              "      <td>8.0</td>\n",
              "      <td>2.0</td>\n",
              "      <td>AM</td>\n",
              "      <td>8.033333</td>\n",
              "    </tr>\n",
              "    <tr>\n",
              "      <th>6503</th>\n",
              "      <td>9971997</td>\n",
              "      <td>1</td>\n",
              "      <td></td>\n",
              "      <td>4</td>\n",
              "      <td>16</td>\n",
              "      <td>2008</td>\n",
              "      <td>2288316</td>\n",
              "      <td>316</td>\n",
              "      <td>1</td>\n",
              "      <td>V5.3</td>\n",
              "      <td>...</td>\n",
              "      <td>0</td>\n",
              "      <td>0</td>\n",
              "      <td>0</td>\n",
              "      <td>0</td>\n",
              "      <td>4</td>\n",
              "      <td>2</td>\n",
              "      <td>7.0</td>\n",
              "      <td>30.0</td>\n",
              "      <td>AM</td>\n",
              "      <td>7.500000</td>\n",
              "    </tr>\n",
              "  </tbody>\n",
              "</table>\n",
              "<p>6504 rows × 980 columns</p>\n",
              "</div>\n",
              "      <button class=\"colab-df-convert\" onclick=\"convertToInteractive('df-e0112b57-d6c3-42ef-8a28-7f5f1411ae12')\"\n",
              "              title=\"Convert this dataframe to an interactive table.\"\n",
              "              style=\"display:none;\">\n",
              "        \n",
              "  <svg xmlns=\"http://www.w3.org/2000/svg\" height=\"24px\"viewBox=\"0 0 24 24\"\n",
              "       width=\"24px\">\n",
              "    <path d=\"M0 0h24v24H0V0z\" fill=\"none\"/>\n",
              "    <path d=\"M18.56 5.44l.94 2.06.94-2.06 2.06-.94-2.06-.94-.94-2.06-.94 2.06-2.06.94zm-11 1L8.5 8.5l.94-2.06 2.06-.94-2.06-.94L8.5 2.5l-.94 2.06-2.06.94zm10 10l.94 2.06.94-2.06 2.06-.94-2.06-.94-.94-2.06-.94 2.06-2.06.94z\"/><path d=\"M17.41 7.96l-1.37-1.37c-.4-.4-.92-.59-1.43-.59-.52 0-1.04.2-1.43.59L10.3 9.45l-7.72 7.72c-.78.78-.78 2.05 0 2.83L4 21.41c.39.39.9.59 1.41.59.51 0 1.02-.2 1.41-.59l7.78-7.78 2.81-2.81c.8-.78.8-2.07 0-2.86zM5.41 20L4 18.59l7.72-7.72 1.47 1.35L5.41 20z\"/>\n",
              "  </svg>\n",
              "      </button>\n",
              "      \n",
              "  <style>\n",
              "    .colab-df-container {\n",
              "      display:flex;\n",
              "      flex-wrap:wrap;\n",
              "      gap: 12px;\n",
              "    }\n",
              "\n",
              "    .colab-df-convert {\n",
              "      background-color: #E8F0FE;\n",
              "      border: none;\n",
              "      border-radius: 50%;\n",
              "      cursor: pointer;\n",
              "      display: none;\n",
              "      fill: #1967D2;\n",
              "      height: 32px;\n",
              "      padding: 0 0 0 0;\n",
              "      width: 32px;\n",
              "    }\n",
              "\n",
              "    .colab-df-convert:hover {\n",
              "      background-color: #E2EBFA;\n",
              "      box-shadow: 0px 1px 2px rgba(60, 64, 67, 0.3), 0px 1px 3px 1px rgba(60, 64, 67, 0.15);\n",
              "      fill: #174EA6;\n",
              "    }\n",
              "\n",
              "    [theme=dark] .colab-df-convert {\n",
              "      background-color: #3B4455;\n",
              "      fill: #D2E3FC;\n",
              "    }\n",
              "\n",
              "    [theme=dark] .colab-df-convert:hover {\n",
              "      background-color: #434B5C;\n",
              "      box-shadow: 0px 1px 3px 1px rgba(0, 0, 0, 0.15);\n",
              "      filter: drop-shadow(0px 1px 2px rgba(0, 0, 0, 0.3));\n",
              "      fill: #FFFFFF;\n",
              "    }\n",
              "  </style>\n",
              "\n",
              "      <script>\n",
              "        const buttonEl =\n",
              "          document.querySelector('#df-e0112b57-d6c3-42ef-8a28-7f5f1411ae12 button.colab-df-convert');\n",
              "        buttonEl.style.display =\n",
              "          google.colab.kernel.accessAllowed ? 'block' : 'none';\n",
              "\n",
              "        async function convertToInteractive(key) {\n",
              "          const element = document.querySelector('#df-e0112b57-d6c3-42ef-8a28-7f5f1411ae12');\n",
              "          const dataTable =\n",
              "            await google.colab.kernel.invokeFunction('convertToInteractive',\n",
              "                                                     [key], {});\n",
              "          if (!dataTable) return;\n",
              "\n",
              "          const docLinkHtml = 'Like what you see? Visit the ' +\n",
              "            '<a target=\"_blank\" href=https://colab.research.google.com/notebooks/data_table.ipynb>data table notebook</a>'\n",
              "            + ' to learn more about interactive tables.';\n",
              "          element.innerHTML = '';\n",
              "          dataTable['output_type'] = 'display_data';\n",
              "          await google.colab.output.renderOutput(dataTable, element);\n",
              "          const docLink = document.createElement('div');\n",
              "          docLink.innerHTML = docLinkHtml;\n",
              "          element.appendChild(docLink);\n",
              "        }\n",
              "      </script>\n",
              "    </div>\n",
              "  </div>\n",
              "  "
            ]
          },
          "metadata": {},
          "execution_count": 22
        }
      ]
    },
    {
      "cell_type": "code",
      "source": [
        "df['Get_up_time']"
      ],
      "metadata": {
        "id": "iNKhzv7hllEz",
        "colab": {
          "base_uri": "https://localhost:8080/"
        },
        "outputId": "cf9b869d-b283-4fbd-c85c-e5be6f7c04b2"
      },
      "execution_count": 31,
      "outputs": [
        {
          "output_type": "execute_result",
          "data": {
            "text/plain": [
              "0             NaN\n",
              "1        7.500000\n",
              "2             NaN\n",
              "3        9.000000\n",
              "4             NaN\n",
              "          ...    \n",
              "6499    10.000000\n",
              "6500     8.000000\n",
              "6501     5.500000\n",
              "6502     8.033333\n",
              "6503     7.500000\n",
              "Name: Get_up_time, Length: 6504, dtype: float64"
            ]
          },
          "metadata": {},
          "execution_count": 31
        }
      ]
    },
    {
      "cell_type": "code",
      "source": [
        "df['Get_up_time'].max()"
      ],
      "metadata": {
        "id": "x2JIBS36lm47",
        "colab": {
          "base_uri": "https://localhost:8080/"
        },
        "outputId": "113bf82b-f4cf-40bf-860b-483b76cc2c17"
      },
      "execution_count": 34,
      "outputs": [
        {
          "output_type": "execute_result",
          "data": {
            "text/plain": [
              "23.5"
            ]
          },
          "metadata": {},
          "execution_count": 34
        }
      ]
    },
    {
      "cell_type": "code",
      "source": [
        "df['Get_up_time'].mean()"
      ],
      "metadata": {
        "id": "WvoKRuRplp6g",
        "colab": {
          "base_uri": "https://localhost:8080/"
        },
        "outputId": "8273d4e9-c4df-4927-9017-3073addf92ae"
      },
      "execution_count": 35,
      "outputs": [
        {
          "output_type": "execute_result",
          "data": {
            "text/plain": [
              "8.250365582974279"
            ]
          },
          "metadata": {},
          "execution_count": 35
        }
      ]
    },
    {
      "cell_type": "code",
      "source": [
        "#Graphs and tables or statistics\n",
        "sns.boxplot(x = 'Get_up_time', data =df, color ='blue')"
      ],
      "metadata": {
        "id": "zLkanovP6L9s",
        "colab": {
          "base_uri": "https://localhost:8080/",
          "height": 466
        },
        "outputId": "4a565104-7716-48ac-bf49-f3a861b54e17"
      },
      "execution_count": 26,
      "outputs": [
        {
          "output_type": "execute_result",
          "data": {
            "text/plain": [
              "<Axes: xlabel='WAKE_UP'>"
            ]
          },
          "metadata": {},
          "execution_count": 26
        },
        {
          "output_type": "display_data",
          "data": {
            "text/plain": [
              "<Figure size 640x480 with 1 Axes>"
            ],
            "image/png": "[encoded data removed]"
          },
          "metadata": {}
        }
      ]
    },
    {
      "cell_type": "code",
      "source": [
        "sns.histplot(x='Get_up_time',data=df,bins=17,kde=True)"
      ],
      "metadata": {
        "id": "iP3v-P-Il2IA",
        "colab": {
          "base_uri": "https://localhost:8080/",
          "height": 467
        },
        "outputId": "c1565366-774a-44e2-8e75-9b396004b82e"
      },
      "execution_count": 32,
      "outputs": [
        {
          "output_type": "execute_result",
          "data": {
            "text/plain": [
              "<Axes: xlabel='Get_up_time', ylabel='Count'>"
            ]
          },
          "metadata": {},
          "execution_count": 32
        },
        {
          "output_type": "display_data",
          "data": {
            "text/plain": [
              "<Figure size 640x480 with 1 Axes>"
            ],
            "image/png": "[encoded data removed]"
          },
          "metadata": {}
        }
      ]
    },
    {
      "cell_type": "code",
      "source": [
        "sns.histplot(x = 'Get_up_time', data =df)"
      ],
      "metadata": {
        "id": "7rw2100pl77O",
        "colab": {
          "base_uri": "https://localhost:8080/",
          "height": 467
        },
        "outputId": "08b20339-e4ea-417a-e6d6-1295d8c6f447"
      },
      "execution_count": 33,
      "outputs": [
        {
          "output_type": "execute_result",
          "data": {
            "text/plain": [
              "<Axes: xlabel='Get_up_time', ylabel='Count'>"
            ]
          },
          "metadata": {},
          "execution_count": 33
        },
        {
          "output_type": "display_data",
          "data": {
            "text/plain": [
              "<Figure size 640x480 with 1 Axes>"
            ],
            "image/png": "[encoded data removed]"
          },
          "metadata": {}
        }
      ]
    }
  ]
}